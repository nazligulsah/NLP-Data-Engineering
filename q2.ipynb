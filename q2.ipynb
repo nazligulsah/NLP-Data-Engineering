{
  "cells": [
    {
      "cell_type": "code",
      "execution_count": 263,
      "metadata": {
        "colab": {
          "base_uri": "https://localhost:8080/"
        },
        "id": "RHG4zp_U10P7",
        "outputId": "f242d888-1576-406d-e856-a39e924b83c7"
      },
      "outputs": [
        {
          "name": "stderr",
          "output_type": "stream",
          "text": [
            "[nltk_data] Downloading package stopwords to /root/nltk_data...\n",
            "[nltk_data]   Package stopwords is already up-to-date!\n",
            "[nltk_data] Downloading package punkt to /root/nltk_data...\n",
            "[nltk_data]   Package punkt is already up-to-date!\n"
          ]
        }
      ],
      "source": [
        "\n",
        "import re\n",
        "import nltk\n",
        "nltk.download('stopwords')\n",
        "nltk.download('punkt')\n",
        "from nltk.corpus import stopwords\n",
        "from nltk.stem import PorterStemmer\n",
        "from nltk.tokenize import word_tokenize\n",
        "from nltk.tokenize.treebank import TreebankWordDetokenizer\n",
        "import string\n",
        "import json"
      ]
    },
    {
      "cell_type": "code",
      "execution_count": 244,
      "metadata": {
        "colab": {
          "base_uri": "https://localhost:8080/",
          "height": 791
        },
        "id": "htd-St8FoYYk",
        "outputId": "960734ce-cc6a-41ca-e9a3-6390010b19e7"
      },
      "outputs": [
        {
          "name": "stderr",
          "output_type": "stream",
          "text": [
            "<ipython-input-244-e4a01489104e>:4: FutureWarning: The error_bad_lines argument has been deprecated and will be removed in a future version. Use on_bad_lines in the future.\n",
            "\n",
            "\n",
            "  df = pd.read_csv('/content/indeed_us_job_description 2.csv', error_bad_lines = False, engine = 'python')\n",
            "Skipping line 18975: unexpected end of data\n"
          ]
        },
        {
          "data": {
            "text/html": [
              "\n",
              "  <div id=\"df-46736b54-be5c-4e5c-a339-f74ef7dc438e\">\n",
              "    <div class=\"colab-df-container\">\n",
              "      <div>\n",
              "<style scoped>\n",
              "    .dataframe tbody tr th:only-of-type {\n",
              "        vertical-align: middle;\n",
              "    }\n",
              "\n",
              "    .dataframe tbody tr th {\n",
              "        vertical-align: top;\n",
              "    }\n",
              "\n",
              "    .dataframe thead th {\n",
              "        text-align: right;\n",
              "    }\n",
              "</style>\n",
              "<table border=\"1\" class=\"dataframe\">\n",
              "  <thead>\n",
              "    <tr style=\"text-align: right;\">\n",
              "      <th></th>\n",
              "      <th>benefits</th>\n",
              "      <th>company</th>\n",
              "      <th>insights</th>\n",
              "      <th>jk</th>\n",
              "      <th>job_date</th>\n",
              "      <th>job_description</th>\n",
              "      <th>job_details</th>\n",
              "      <th>job_label</th>\n",
              "      <th>job_page_url</th>\n",
              "      <th>job_title</th>\n",
              "      <th>location</th>\n",
              "      <th>qualifications</th>\n",
              "      <th>rating</th>\n",
              "      <th>salary</th>\n",
              "      <th>scrape_time</th>\n",
              "      <th>state</th>\n",
              "      <th>zipcode</th>\n",
              "      <th>estimated_salary</th>\n",
              "    </tr>\n",
              "  </thead>\n",
              "  <tbody>\n",
              "    <tr>\n",
              "      <th>0</th>\n",
              "      <td>BenefitsPulled from the full job description ...</td>\n",
              "      <td>Justin Rosen F D S Inc</td>\n",
              "      <td>Hiring Insights Hiring 1 candidate for this ro...</td>\n",
              "      <td>6516a3814e551ad1</td>\n",
              "      <td>Posted 6 days ago</td>\n",
              "      <td>&lt;div class=\"jobsearch-jobDescriptionText\" id=\"...</td>\n",
              "      <td>$44,224 - $46,722 a year -  Full-time</td>\n",
              "      <td>NaN</td>\n",
              "      <td>https://www.indeed.com/viewjob?jk=6516a3814e55...</td>\n",
              "      <td>Bookkeeper</td>\n",
              "      <td>&lt;div&gt;Tampa, FL 33629&lt;/div&gt;</td>\n",
              "      <td>QualificationsBookkeeping: 1 year (Required)</td>\n",
              "      <td>NaN</td>\n",
              "      <td>$44,224 - $46,722 a year</td>\n",
              "      <td>2022-10-12 09:41:41</td>\n",
              "      <td>FL</td>\n",
              "      <td>33609</td>\n",
              "      <td>NaN</td>\n",
              "    </tr>\n",
              "    <tr>\n",
              "      <th>1</th>\n",
              "      <td>NaN</td>\n",
              "      <td>Amici | Amici Food Group</td>\n",
              "      <td>Hiring Insights Job activity Posted 6 days ago</td>\n",
              "      <td>ee2f9c94619d0fbe</td>\n",
              "      <td>Posted 6 days ago</td>\n",
              "      <td>&lt;div class=\"jobsearch-jobDescriptionText\" id=\"...</td>\n",
              "      <td>Full-time</td>\n",
              "      <td>NaN</td>\n",
              "      <td>https://www.indeed.com/viewjob?jk=ee2f9c94619d...</td>\n",
              "      <td>Dishwasher</td>\n",
              "      <td>&lt;div&gt;Madison, GA 30650&lt;/div&gt;</td>\n",
              "      <td>NaN</td>\n",
              "      <td>NaN</td>\n",
              "      <td>Full-time</td>\n",
              "      <td>2022-10-12 09:41:41</td>\n",
              "      <td>GA</td>\n",
              "      <td>30667</td>\n",
              "      <td>$19.9K - $25.3K</td>\n",
              "    </tr>\n",
              "    <tr>\n",
              "      <th>2</th>\n",
              "      <td>NaN</td>\n",
              "      <td>Ballpark Realty</td>\n",
              "      <td>Hiring Insights Hiring 1 candidate for this ro...</td>\n",
              "      <td>5a031cbd3c84edfb</td>\n",
              "      <td>Posted 6 days ago</td>\n",
              "      <td>&lt;div class=\"jobsearch-jobDescriptionText\" id=\"...</td>\n",
              "      <td>$19 - $22 an hour -  Full-time</td>\n",
              "      <td>NaN</td>\n",
              "      <td>https://www.indeed.com/viewjob?jk=5a031cbd3c84...</td>\n",
              "      <td>Sales and Marketing Coordinator</td>\n",
              "      <td>&lt;div&gt;Snohomish, WA 98296&lt;/div&gt;</td>\n",
              "      <td>QualificationsMarketing: 1 year (Required)Work...</td>\n",
              "      <td>NaN</td>\n",
              "      <td>$19 - $22 an hour</td>\n",
              "      <td>2022-10-12 09:41:41</td>\n",
              "      <td>WA</td>\n",
              "      <td>98296</td>\n",
              "      <td>NaN</td>\n",
              "    </tr>\n",
              "    <tr>\n",
              "      <th>3</th>\n",
              "      <td>NaN</td>\n",
              "      <td>Rural Community Transportation</td>\n",
              "      <td>Hiring Insights Job activity Posted 6 days ago</td>\n",
              "      <td>bc37c28ff65bf344</td>\n",
              "      <td>Posted 6 days ago</td>\n",
              "      <td>&lt;div class=\"jobsearch-jobDescriptionText\" id=\"...</td>\n",
              "      <td>$50,000 a year -  Full-time</td>\n",
              "      <td>NaN</td>\n",
              "      <td>https://www.indeed.com/viewjob?jk=bc37c28ff65b...</td>\n",
              "      <td>Procurement Specialist</td>\n",
              "      <td>&lt;div&gt;Lyndonville, VT 05851&lt;/div&gt;</td>\n",
              "      <td>NaN</td>\n",
              "      <td>NaN</td>\n",
              "      <td>$50,000 a year</td>\n",
              "      <td>2022-10-12 09:41:41</td>\n",
              "      <td>VT</td>\n",
              "      <td>5871</td>\n",
              "      <td>NaN</td>\n",
              "    </tr>\n",
              "    <tr>\n",
              "      <th>4</th>\n",
              "      <td>BenefitsPulled from the full job description ...</td>\n",
              "      <td>United States Postal Service</td>\n",
              "      <td>Hiring Insights Job activity Posted 6 days ago</td>\n",
              "      <td>ec45994a00b19656</td>\n",
              "      <td>Posted 6 days ago</td>\n",
              "      <td>&lt;div class=\"jobsearch-jobDescriptionText\" id=\"...</td>\n",
              "      <td>Part-time</td>\n",
              "      <td>NaN</td>\n",
              "      <td>https://www.indeed.com/viewjob?jk=ec45994a00b1...</td>\n",
              "      <td>CITY CARRIER ASSISTANT</td>\n",
              "      <td>&lt;div&gt;McMinnville, OR 97128&lt;/div&gt;</td>\n",
              "      <td>NaN</td>\n",
              "      <td>NaN</td>\n",
              "      <td>Part-time</td>\n",
              "      <td>2022-10-12 09:41:42</td>\n",
              "      <td>OR</td>\n",
              "      <td>97101</td>\n",
              "      <td>NaN</td>\n",
              "    </tr>\n",
              "  </tbody>\n",
              "</table>\n",
              "</div>\n",
              "      <button class=\"colab-df-convert\" onclick=\"convertToInteractive('df-46736b54-be5c-4e5c-a339-f74ef7dc438e')\"\n",
              "              title=\"Convert this dataframe to an interactive table.\"\n",
              "              style=\"display:none;\">\n",
              "        \n",
              "  <svg xmlns=\"http://www.w3.org/2000/svg\" height=\"24px\"viewBox=\"0 0 24 24\"\n",
              "       width=\"24px\">\n",
              "    <path d=\"M0 0h24v24H0V0z\" fill=\"none\"/>\n",
              "    <path d=\"M18.56 5.44l.94 2.06.94-2.06 2.06-.94-2.06-.94-.94-2.06-.94 2.06-2.06.94zm-11 1L8.5 8.5l.94-2.06 2.06-.94-2.06-.94L8.5 2.5l-.94 2.06-2.06.94zm10 10l.94 2.06.94-2.06 2.06-.94-2.06-.94-.94-2.06-.94 2.06-2.06.94z\"/><path d=\"M17.41 7.96l-1.37-1.37c-.4-.4-.92-.59-1.43-.59-.52 0-1.04.2-1.43.59L10.3 9.45l-7.72 7.72c-.78.78-.78 2.05 0 2.83L4 21.41c.39.39.9.59 1.41.59.51 0 1.02-.2 1.41-.59l7.78-7.78 2.81-2.81c.8-.78.8-2.07 0-2.86zM5.41 20L4 18.59l7.72-7.72 1.47 1.35L5.41 20z\"/>\n",
              "  </svg>\n",
              "      </button>\n",
              "      \n",
              "  <style>\n",
              "    .colab-df-container {\n",
              "      display:flex;\n",
              "      flex-wrap:wrap;\n",
              "      gap: 12px;\n",
              "    }\n",
              "\n",
              "    .colab-df-convert {\n",
              "      background-color: #E8F0FE;\n",
              "      border: none;\n",
              "      border-radius: 50%;\n",
              "      cursor: pointer;\n",
              "      display: none;\n",
              "      fill: #1967D2;\n",
              "      height: 32px;\n",
              "      padding: 0 0 0 0;\n",
              "      width: 32px;\n",
              "    }\n",
              "\n",
              "    .colab-df-convert:hover {\n",
              "      background-color: #E2EBFA;\n",
              "      box-shadow: 0px 1px 2px rgba(60, 64, 67, 0.3), 0px 1px 3px 1px rgba(60, 64, 67, 0.15);\n",
              "      fill: #174EA6;\n",
              "    }\n",
              "\n",
              "    [theme=dark] .colab-df-convert {\n",
              "      background-color: #3B4455;\n",
              "      fill: #D2E3FC;\n",
              "    }\n",
              "\n",
              "    [theme=dark] .colab-df-convert:hover {\n",
              "      background-color: #434B5C;\n",
              "      box-shadow: 0px 1px 3px 1px rgba(0, 0, 0, 0.15);\n",
              "      filter: drop-shadow(0px 1px 2px rgba(0, 0, 0, 0.3));\n",
              "      fill: #FFFFFF;\n",
              "    }\n",
              "  </style>\n",
              "\n",
              "      <script>\n",
              "        const buttonEl =\n",
              "          document.querySelector('#df-46736b54-be5c-4e5c-a339-f74ef7dc438e button.colab-df-convert');\n",
              "        buttonEl.style.display =\n",
              "          google.colab.kernel.accessAllowed ? 'block' : 'none';\n",
              "\n",
              "        async function convertToInteractive(key) {\n",
              "          const element = document.querySelector('#df-46736b54-be5c-4e5c-a339-f74ef7dc438e');\n",
              "          const dataTable =\n",
              "            await google.colab.kernel.invokeFunction('convertToInteractive',\n",
              "                                                     [key], {});\n",
              "          if (!dataTable) return;\n",
              "\n",
              "          const docLinkHtml = 'Like what you see? Visit the ' +\n",
              "            '<a target=\"_blank\" href=https://colab.research.google.com/notebooks/data_table.ipynb>data table notebook</a>'\n",
              "            + ' to learn more about interactive tables.';\n",
              "          element.innerHTML = '';\n",
              "          dataTable['output_type'] = 'display_data';\n",
              "          await google.colab.output.renderOutput(dataTable, element);\n",
              "          const docLink = document.createElement('div');\n",
              "          docLink.innerHTML = docLinkHtml;\n",
              "          element.appendChild(docLink);\n",
              "        }\n",
              "      </script>\n",
              "    </div>\n",
              "  </div>\n",
              "  "
            ],
            "text/plain": [
              "                                            benefits  \\\n",
              "0   BenefitsPulled from the full job description ...   \n",
              "1                                                NaN   \n",
              "2                                                NaN   \n",
              "3                                                NaN   \n",
              "4   BenefitsPulled from the full job description ...   \n",
              "\n",
              "                          company  \\\n",
              "0          Justin Rosen F D S Inc   \n",
              "1        Amici | Amici Food Group   \n",
              "2                 Ballpark Realty   \n",
              "3  Rural Community Transportation   \n",
              "4    United States Postal Service   \n",
              "\n",
              "                                            insights                jk  \\\n",
              "0  Hiring Insights Hiring 1 candidate for this ro...  6516a3814e551ad1   \n",
              "1    Hiring Insights Job activity Posted 6 days ago   ee2f9c94619d0fbe   \n",
              "2  Hiring Insights Hiring 1 candidate for this ro...  5a031cbd3c84edfb   \n",
              "3    Hiring Insights Job activity Posted 6 days ago   bc37c28ff65bf344   \n",
              "4    Hiring Insights Job activity Posted 6 days ago   ec45994a00b19656   \n",
              "\n",
              "            job_date                                    job_description  \\\n",
              "0  Posted 6 days ago  <div class=\"jobsearch-jobDescriptionText\" id=\"...   \n",
              "1  Posted 6 days ago  <div class=\"jobsearch-jobDescriptionText\" id=\"...   \n",
              "2  Posted 6 days ago  <div class=\"jobsearch-jobDescriptionText\" id=\"...   \n",
              "3  Posted 6 days ago  <div class=\"jobsearch-jobDescriptionText\" id=\"...   \n",
              "4  Posted 6 days ago  <div class=\"jobsearch-jobDescriptionText\" id=\"...   \n",
              "\n",
              "                             job_details  job_label  \\\n",
              "0  $44,224 - $46,722 a year -  Full-time        NaN   \n",
              "1                              Full-time        NaN   \n",
              "2         $19 - $22 an hour -  Full-time        NaN   \n",
              "3            $50,000 a year -  Full-time        NaN   \n",
              "4                              Part-time        NaN   \n",
              "\n",
              "                                        job_page_url  \\\n",
              "0  https://www.indeed.com/viewjob?jk=6516a3814e55...   \n",
              "1  https://www.indeed.com/viewjob?jk=ee2f9c94619d...   \n",
              "2  https://www.indeed.com/viewjob?jk=5a031cbd3c84...   \n",
              "3  https://www.indeed.com/viewjob?jk=bc37c28ff65b...   \n",
              "4  https://www.indeed.com/viewjob?jk=ec45994a00b1...   \n",
              "\n",
              "                         job_title                          location  \\\n",
              "0                       Bookkeeper        <div>Tampa, FL 33629</div>   \n",
              "1                       Dishwasher      <div>Madison, GA 30650</div>   \n",
              "2  Sales and Marketing Coordinator    <div>Snohomish, WA 98296</div>   \n",
              "3           Procurement Specialist  <div>Lyndonville, VT 05851</div>   \n",
              "4           CITY CARRIER ASSISTANT  <div>McMinnville, OR 97128</div>   \n",
              "\n",
              "                                      qualifications  rating  \\\n",
              "0       QualificationsBookkeeping: 1 year (Required)     NaN   \n",
              "1                                                NaN     NaN   \n",
              "2  QualificationsMarketing: 1 year (Required)Work...     NaN   \n",
              "3                                                NaN     NaN   \n",
              "4                                                NaN     NaN   \n",
              "\n",
              "                     salary          scrape_time state  zipcode  \\\n",
              "0  $44,224 - $46,722 a year  2022-10-12 09:41:41    FL    33609   \n",
              "1                 Full-time  2022-10-12 09:41:41    GA    30667   \n",
              "2         $19 - $22 an hour  2022-10-12 09:41:41    WA    98296   \n",
              "3            $50,000 a year  2022-10-12 09:41:41    VT     5871   \n",
              "4                 Part-time  2022-10-12 09:41:42    OR    97101   \n",
              "\n",
              "   estimated_salary  \n",
              "0               NaN  \n",
              "1  $19.9K - $25.3K   \n",
              "2               NaN  \n",
              "3               NaN  \n",
              "4               NaN  "
            ]
          },
          "execution_count": 244,
          "metadata": {},
          "output_type": "execute_result"
        }
      ],
      "source": [
        "# Load the Pandas libraries with alias 'pd' \n",
        "import pandas as pd \n",
        "\n",
        "df = pd.read_csv('/content/indeed_us_job_description 2.csv', error_bad_lines = False, engine = 'python')\n",
        "\n",
        "#df.isnull().any() there is no null value\n",
        "df.head(5)"
      ]
    },
    {
      "cell_type": "code",
      "execution_count": 245,
      "metadata": {
        "colab": {
          "base_uri": "https://localhost:8080/"
        },
        "id": "vMy63C70vvoI",
        "outputId": "074894c3-6ce8-4667-ae44-245791b84487"
      },
      "outputs": [
        {
          "name": "stdout",
          "output_type": "stream",
          "text": [
            "0    <div class=\"jobsearch-jobDescriptionText\" id=\"...\n",
            "1    <div class=\"jobsearch-jobDescriptionText\" id=\"...\n",
            "2    <div class=\"jobsearch-jobDescriptionText\" id=\"...\n",
            "3    <div class=\"jobsearch-jobDescriptionText\" id=\"...\n",
            "4    <div class=\"jobsearch-jobDescriptionText\" id=\"...\n",
            "Name: job_description, dtype: object\n"
          ]
        }
      ],
      "source": [
        "job_desc = df['job_description']\n"
      ]
    },
    {
      "cell_type": "code",
      "execution_count": 246,
      "metadata": {
        "id": "iVj0OF-22IhQ"
      },
      "outputs": [],
      "source": [
        "#print(job_descs.isna().any()) since returned true drop the none value \n",
        "job_desc = job_desc.dropna()"
      ]
    },
    {
      "cell_type": "code",
      "execution_count": 248,
      "metadata": {
        "id": "mPkDcYSu2WHI"
      },
      "outputs": [],
      "source": [
        "def preprocess_text(text):\n",
        "    \n",
        "    text = re.sub(r'<.*?>', '', text).replace('\\n', '') #clean the html and newline characters\n",
        "    text = text.lower() # Convert to lowercase \n",
        "    text = re.sub(r'\\s+', ' ', text)  # Remove extra whitespaces\n",
        "    stop_words = set(stopwords.words(\"english\"))  \n",
        "\n",
        "    punctuations = '' \n",
        "    word_tokens = word_tokenize(text)\n",
        "    stemmer = PorterStemmer()\n",
        "  # remove the stopwords and stem the words by using PorterStemmer\n",
        "    clean_text = []\n",
        "    for word in word_tokens:\n",
        "        if word not in stop_words:\n",
        "            if len(word) >= 1:\n",
        "                clean_word = stemmer.stem(word)\n",
        "                clean_text.append(clean_word)\n",
        "   \n",
        "    return \" \".join(clean_text)"
      ]
    },
    {
      "cell_type": "code",
      "execution_count": 249,
      "metadata": {
        "colab": {
          "base_uri": "https://localhost:8080/"
        },
        "id": "Ug5qW4cc3e3a",
        "outputId": "25fd5fca-f413-4af8-ce26-0715abeaeafd"
      },
      "outputs": [
        {
          "name": "stdout",
          "output_type": "stream",
          "text": [
            "0    j rosen fd inc fast-grow cpa firm expand accou...\n",
            "1    dish washer work team-ori , high-volum , fast-...\n",
            "2    ballpark realtymarket coordin – job descriptio...\n",
            "3    procur specialist respons procur activ process...\n",
            "4    unit state postal servic extern public job pos...\n",
            "Name: job_description, dtype: object\n"
          ]
        }
      ],
      "source": [
        "# Apply text preprocessing to the job descriptions\n",
        "job_desc = job_desc.apply(lambda x: preprocess_text(x))\n"
      ]
    },
    {
      "cell_type": "code",
      "execution_count": 250,
      "metadata": {
        "id": "k22CuCvi6sAP"
      },
      "outputs": [],
      "source": [
        "def extract_info(text, regex):\n",
        "    #matches = re.findall(regex, text)\n",
        "    matches = [x.group() for x in re.finditer( regex, text)]\n",
        "    if matches:\n",
        "      return matches\n",
        "    else:\n",
        "      return None"
      ]
    },
    {
      "cell_type": "code",
      "execution_count": 252,
      "metadata": {
        "id": "TJN-G9rT4SNb"
      },
      "outputs": [],
      "source": [
        "# Define regex patterns for extraction\n",
        "salary_regex = r'\\$ \\d{1,3}(,\\d{1,3})?(.\\d{1,3})?[Kk]?'\n",
        "date_regex = r'\\b\\d{1,2}[\\/\\-]\\d{1,2}[\\/\\-]\\d{4}\\b'\n",
        "url_regex = r'(https?:\\/\\/)?([\\da-z\\.-]+)\\.([a-z\\.]{2,6})([\\/\\w\\.-]*)*\\/?'\n",
        "contact_regex = r'\\b[\\w\\.-]+@[\\w\\.-]+\\.[a-zA-Z]{2,}\\b|\\(?\\d{3}\\)?[-.\\s]?\\d{3}[-.\\s]?\\d{4}\\b'\n",
        "\n",
        "domain_regex = r'[\\w\\.\\-]+@[\\w\\.\\-]+\\.[a-zA-Z]{2,}'\n",
        "address_regex = r\"\\b[A-Za-z0-9._-]+(?:\\s[A-Za-z0-9._-]+){1,2}\\s*,?\\s*\\b(?:apt|bbldg|dept|fl|frnt|hngr|key|lbby|lot|lowr|ofc|ph|piers|rear|rm|side|slip|spc|ste|stop|trlr|unit|upp?r)\\.?\\s*[A-Za-z0-9._-]*\\s*[A-Za-z]{2}\\s*\\b\\d{5}[-]?\\d{0,4}\\b\"\n"
      ]
    },
    {
      "cell_type": "code",
      "execution_count": 264,
      "metadata": {
        "id": "fWUyy-JXKDNu"
      },
      "outputs": [],
      "source": [
        "# Extract information from the job descriptions using regex\n",
        "df['salary'] = job_desc.apply(lambda x: extract_info(x, salary_regex))\n",
        "df['company_domain'] = job_desc.apply(lambda x: extract_info(x, domain_regex))\n",
        "df['url'] = job_desc.apply(lambda x: extract_info(x, url_regex))\n",
        "df['contact'] = job_desc.apply(lambda x: extract_info(x, contact_regex))\n",
        "df['date'] = job_desc.apply(lambda x: extract_info(x, date_regex))\n",
        "df['address'] = job_desc.apply(lambda x: extract_info(x, address_regex))\n"
      ]
    },
    {
      "cell_type": "code",
      "execution_count": 265,
      "metadata": {
        "id": "biNk9qIVbx8r"
      },
      "outputs": [],
      "source": [
        "import json\n",
        "output = {'jobs': []}\n",
        "# Create a list of field names to extract\n",
        "fields = ['salary', 'company_domain', 'url', 'contact', 'date', 'address']\n",
        "\n",
        "# Iterate over the rows of the DataFrame\n",
        "for i, row in df.iterrows():\n",
        "    # Use dictionary comprehension to extract the fields\n",
        "    job_info = {f: row[f] for f in fields if row[f] is not None}\n",
        "    output['jobs'].append(job_info)\n"
      ]
    },
    {
      "cell_type": "code",
      "execution_count": 267,
      "metadata": {
        "id": "HSNp3EwRNBu3"
      },
      "outputs": [],
      "source": [
        "\n",
        "# Save the output as a JSON file\n",
        "with open('job_info.json', 'w') as f:\n",
        "    json.dump(output, f, indent=4)"
      ]
    },
    {
      "cell_type": "code",
      "execution_count": 268,
      "metadata": {
        "colab": {
          "base_uri": "https://localhost:8080/"
        },
        "id": "9mGTj40acp4c",
        "outputId": "e8b9ccbe-300d-407b-f504-9d59056f5214"
      },
      "outputs": [
        {
          "name": "stdout",
          "output_type": "stream",
          "text": [
            "Average number of fields found per job listing: 1.1523217203394298\n"
          ]
        }
      ],
      "source": [
        "#What is the average number of fields (listed above) found per job listing? \n",
        "\n",
        "# Count the number of non-null fields for each job listing\n",
        "num_fields = [sum(~row[fields].isnull()) for i, row in df.iterrows()]\n",
        "\n",
        "# Calculate the average number of fields found per job listing\n",
        "avg_fields_per_listing = sum(num_fields) / len(num_fields)\n",
        "\n",
        "print(\"Average number of fields found per job listing:\", avg_fields_per_listing)\n"
      ]
    },
    {
      "cell_type": "code",
      "execution_count": 269,
      "metadata": {
        "colab": {
          "base_uri": "https://localhost:8080/"
        },
        "id": "IdtjNkZnePQJ",
        "outputId": "5ae1f4f4-9c67-4a6e-d787-b3d8739f42e8"
      },
      "outputs": [
        {
          "name": "stdout",
          "output_type": "stream",
          "text": [
            "salary: 39.40%\n",
            "company_domain: 0.00%\n",
            "url: 65.59%\n",
            "contact: 7.13%\n",
            "date: 3.07%\n",
            "address: 0.05%\n"
          ]
        }
      ],
      "source": [
        "#What percentages does each segment correspond to within the job descriptions?\n",
        "# Count the number of job listings that have each field\n",
        "field_counts = {}\n",
        "for field in fields:\n",
        "    field_counts[field] = sum(~df[field].isnull())\n",
        "\n",
        "# Calculate the percentage of job listings that have each field\n",
        "total_listings = len(df)\n",
        "for field in fields:\n",
        "    field_percent = field_counts[field] / total_listings * 100\n",
        "    print(f\"{field}: {field_percent:.2f}%\")\n"
      ]
    },
    {
      "cell_type": "markdown",
      "metadata": {
        "id": "7DHXPvmjBlXe"
      },
      "source": []
    }
  ],
  "metadata": {
    "colab": {
      "provenance": []
    },
    "kernelspec": {
      "display_name": "Python 3",
      "name": "python3"
    },
    "language_info": {
      "name": "python"
    }
  },
  "nbformat": 4,
  "nbformat_minor": 0
}
